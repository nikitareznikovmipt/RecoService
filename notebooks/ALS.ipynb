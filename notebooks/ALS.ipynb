{
 "cells": [
  {
   "cell_type": "code",
   "execution_count": 61,
   "metadata": {},
   "outputs": [],
   "source": [
    "import sys\n",
    "import os\n",
    "\n",
    "root_dir = os.path.dirname(os.getcwd())\n",
    "sys.path.append(root_dir)\n",
    "\n",
    "import pandas as pd\n",
    "import numpy as np\n",
    "from tqdm import tqdm\n",
    "from service.config import INTERACTIONS_DATA, USER_DATA, ITEM_DATA\n",
    "\n",
    "from implicit.bpr import BayesianPersonalizedRanking\n",
    "from implicit.lmf import LogisticMatrixFactorization\n",
    "from implicit.als import AlternatingLeastSquares\n",
    "\n",
    "from lightfm import LightFM\n",
    "\n",
    "from rectools.models import ImplicitALSWrapperModel, LightFMWrapperModel\n",
    "from rectools.dataset import Dataset\n",
    "from rectools.metrics import calc_metrics, Precision, Recall, Serendipity, MeanInvUserFreq, MAP, NDCG\n",
    "\n",
    "import optuna\n",
    "\n",
    "from annoy import AnnoyIndex"
   ]
  },
  {
   "cell_type": "code",
   "execution_count": 7,
   "metadata": {},
   "outputs": [],
   "source": [
    "interactions = pd.read_csv(INTERACTIONS_DATA)\n",
    "interactions.rename(\n",
    "        columns={\n",
    "                'last_watch_dt': 'datetime',\n",
    "                'total_dur': 'weight'\n",
    "        }, \n",
    "        inplace=True)\n",
    "interactions['datetime'] = pd.to_datetime(interactions['datetime'])\n",
    "\n",
    "\n",
    "users = pd.read_csv(USER_DATA)\n",
    "items = pd.read_csv(ITEM_DATA)"
   ]
  },
  {
   "cell_type": "code",
   "execution_count": 13,
   "metadata": {},
   "outputs": [
    {
     "name": "stdout",
     "output_type": "stream",
     "text": [
      "Количество теплых пользователей: 112977\n",
      "Количество холодных пользователей: 72930\n"
     ]
    }
   ],
   "source": [
    "# Разобьем для трейна и теста\n",
    "max_date = interactions['datetime'].max()\n",
    "train = interactions[(interactions['datetime'] < max_date - pd.Timedelta(days=7)) & (interactions[\"weight\"] >= 300)]\n",
    "test = interactions[(interactions['datetime'] >= max_date - pd.Timedelta(days=7))]\n",
    "\n",
    "# Отделим на тесте теплых и холодных пользователей\n",
    "warm_users = train['user_id'].unique()\n",
    "warm_test = test[test['user_id'].isin(warm_users)]\n",
    "cold_test = test[~test['user_id'].isin(warm_users)]\n",
    "\n",
    "print(f\"Количество теплых пользователей: {warm_test['user_id'].nunique()}\")\n",
    "print(f\"Количество холодных пользователей: {cold_test['user_id'].nunique()}\")"
   ]
  },
  {
   "cell_type": "code",
   "execution_count": 14,
   "metadata": {},
   "outputs": [],
   "source": [
    "K_RECOS = 10\n",
    "RANDOM_STATE = 42\n",
    "NUM_THREADS = 16\n",
    "N_FACTORS = 4"
   ]
  },
  {
   "cell_type": "code",
   "execution_count": 15,
   "metadata": {},
   "outputs": [],
   "source": [
    "dataset = Dataset.construct(\n",
    "    interactions_df=train\n",
    ")"
   ]
  },
  {
   "cell_type": "code",
   "execution_count": 22,
   "metadata": {},
   "outputs": [
    {
     "data": {
      "text/plain": [
       "{'MAP@10': 0.07845399314096013}"
      ]
     },
     "execution_count": 22,
     "metadata": {},
     "output_type": "execute_result"
    }
   ],
   "source": [
    "# Тестовый запуск модели LightFM_warp_4\n",
    "\n",
    "model = LightFMWrapperModel(\n",
    "            LightFM(\n",
    "                no_components=10, \n",
    "                loss='warp', \n",
    "                random_state=RANDOM_STATE,\n",
    "                learning_rate=0.05\n",
    "            ),\n",
    "            epochs=10,\n",
    "            num_threads=NUM_THREADS,\n",
    "        )\n",
    "\n",
    "model.fit(dataset)\n",
    "\n",
    "recs = model.recommend(\n",
    "    users=warm_test['user_id'].unique(),\n",
    "    dataset=dataset,\n",
    "    k=K_RECOS,\n",
    "    filter_viewed=True\n",
    ")\n",
    "\n",
    "metric = {\n",
    "    'MAP@10': MAP(k=10)\n",
    "}\n",
    "\n",
    "calc_metrics(metric, recs, warm_test, train)"
   ]
  },
  {
   "cell_type": "markdown",
   "metadata": {},
   "source": [
    "# Перебор гиперпараметров с помощью Optuna"
   ]
  },
  {
   "cell_type": "code",
   "execution_count": null,
   "metadata": {},
   "outputs": [],
   "source": [
    "metric = {\n",
    "    'MAP@10': MAP(k=10)\n",
    "}"
   ]
  },
  {
   "cell_type": "code",
   "execution_count": 23,
   "metadata": {},
   "outputs": [],
   "source": [
    "def objective(trial):\n",
    "    # Define hyperparameters for optimize\n",
    "    learning_rate = trial.suggest_float('learning_rate', 0.05, 0.1, step=0.01)\n",
    "    no_components = trial.suggest_int('no_components', 10, 100, step=10)\n",
    "\n",
    "    # Create ALS model with hyperparameters\n",
    "    model = LightFMWrapperModel(\n",
    "            LightFM(\n",
    "                no_components=no_components, \n",
    "                loss='warp', \n",
    "                random_state=RANDOM_STATE,\n",
    "                learning_rate=learning_rate\n",
    "            ),\n",
    "            epochs=10,\n",
    "            num_threads=NUM_THREADS,\n",
    "        )\n",
    "    \n",
    "    model.fit(dataset)\n",
    "    # Make recomenda and calculate MAP@10\n",
    "    recs = model.recommend(\n",
    "        users=warm_test['user_id'].unique(),\n",
    "        dataset=dataset,\n",
    "        k=K_RECOS,\n",
    "        filter_viewed=True\n",
    "    )\n",
    "    metric_value = calc_metrics(metric, recs, warm_test, train)['MAP@10']\n",
    "    return metric_value"
   ]
  },
  {
   "cell_type": "code",
   "execution_count": 24,
   "metadata": {},
   "outputs": [
    {
     "name": "stderr",
     "output_type": "stream",
     "text": [
      "[I 2023-12-05 15:45:34,947] A new study created in memory with name: no-name-8d6ec594-9d6e-4f23-9a5f-cd5137472ca2\n",
      "[I 2023-12-05 15:48:21,517] Trial 0 finished with value: 0.07503311997279696 and parameters: {'learning_rate': 0.1, 'no_components': 40}. Best is trial 0 with value: 0.07503311997279696.\n",
      "[I 2023-12-05 15:49:23,368] Trial 2 finished with value: 0.07340170473759647 and parameters: {'learning_rate': 0.1, 'no_components': 60}. Best is trial 0 with value: 0.07503311997279696.\n",
      "[I 2023-12-05 15:49:32,304] Trial 3 finished with value: 0.07703485187678248 and parameters: {'learning_rate': 0.05, 'no_components': 70}. Best is trial 3 with value: 0.07703485187678248.\n",
      "[I 2023-12-05 15:49:39,543] Trial 1 finished with value: 0.07750689779573613 and parameters: {'learning_rate': 0.05, 'no_components': 80}. Best is trial 1 with value: 0.07750689779573613.\n",
      "[I 2023-12-05 15:50:32,520] Trial 4 finished with value: 0.07845399314096013 and parameters: {'learning_rate': 0.05, 'no_components': 10}. Best is trial 4 with value: 0.07845399314096013.\n",
      "[I 2023-12-05 15:51:38,057] Trial 6 finished with value: 0.07632146394602386 and parameters: {'learning_rate': 0.09, 'no_components': 20}. Best is trial 4 with value: 0.07845399314096013.\n",
      "[I 2023-12-05 15:53:10,521] Trial 5 finished with value: 0.0736833653193817 and parameters: {'learning_rate': 0.09, 'no_components': 90}. Best is trial 4 with value: 0.07845399314096013.\n",
      "[I 2023-12-05 15:53:14,399] Trial 8 finished with value: 0.07620614305707465 and parameters: {'learning_rate': 0.07, 'no_components': 30}. Best is trial 4 with value: 0.07845399314096013.\n",
      "[I 2023-12-05 15:53:25,745] Trial 7 finished with value: 0.07472488762012232 and parameters: {'learning_rate': 0.08, 'no_components': 90}. Best is trial 4 with value: 0.07845399314096013.\n",
      "[I 2023-12-05 15:53:36,529] Trial 9 finished with value: 0.07541507266562118 and parameters: {'learning_rate': 0.060000000000000005, 'no_components': 40}. Best is trial 4 with value: 0.07845399314096013.\n"
     ]
    },
    {
     "name": "stdout",
     "output_type": "stream",
     "text": [
      "Best MAP@10: 0.07845399314096013\n",
      "Best Hyperparameters: {'learning_rate': 0.05, 'no_components': 10}\n"
     ]
    }
   ],
   "source": [
    "study = optuna.create_study(direction='maximize', sampler=optuna.samplers.TPESampler())\n",
    "study.optimize(objective, n_trials=10, n_jobs=4)\n",
    "\n",
    "best_params = study.best_params\n",
    "best_metric_value = study.best_value\n",
    "\n",
    "print(\"Best MAP@10:\", best_metric_value)\n",
    "print(\"Best Hyperparameters:\", best_params)"
   ]
  },
  {
   "cell_type": "markdown",
   "metadata": {},
   "source": [
    "# Используем метод ANN для формирования рекомендаций"
   ]
  },
  {
   "cell_type": "code",
   "execution_count": 34,
   "metadata": {},
   "outputs": [
    {
     "data": {
      "text/plain": [
       "<rectools.models.lightfm.LightFMWrapperModel at 0x2c835df40>"
      ]
     },
     "execution_count": 34,
     "metadata": {},
     "output_type": "execute_result"
    }
   ],
   "source": [
    "# Обучаем модель с лучшими параметрами\n",
    "model = LightFMWrapperModel(\n",
    "            LightFM(\n",
    "                no_components=10, \n",
    "                loss='warp', \n",
    "                random_state=RANDOM_STATE,\n",
    "                learning_rate=0.05\n",
    "            ),\n",
    "            epochs=10,\n",
    "            num_threads=NUM_THREADS,\n",
    "        )\n",
    "\n",
    "model.fit(dataset)"
   ]
  },
  {
   "cell_type": "code",
   "execution_count": 36,
   "metadata": {},
   "outputs": [
    {
     "name": "stdout",
     "output_type": "stream",
     "text": [
      "User embedings size: (756562, 12)\n",
      "Item embedings size: (14019, 12)\n"
     ]
    }
   ],
   "source": [
    "user_embeddings, item_embeddings = model.get_vectors(dataset)\n",
    "\n",
    "print(f'User embedings size: {user_embeddings.shape}')\n",
    "print(f'Item embedings size: {item_embeddings.shape}')"
   ]
  },
  {
   "cell_type": "code",
   "execution_count": 99,
   "metadata": {},
   "outputs": [],
   "source": [
    "def create_ann(item_embedding: np.array, num_trees: int = 10):\n",
    "    item_index = AnnoyIndex(item_embedding.shape[1], 'dot')\n",
    "    for i, item_embedding in enumerate(item_embeddings):\n",
    "        item_index.add_item(i, item_embedding)\n",
    "    item_index.build(num_trees)\n",
    "    return item_index\n",
    "\n",
    "\n",
    "def get_ann_recomends_to_warm_users(user_ids: np.array, dataset: Dataset, model: LightFMWrapperModel):\n",
    "    # Get user embeddings\n",
    "    internal_user_ids = dataset.user_id_map.to_internal.loc[user_ids].values\n",
    "    user_embeddings, item_embeddings = model.get_vectors(dataset)\n",
    "    user_embeddings_norm = user_embeddings / np.linalg.norm(user_embeddings, axis=1).reshape(-1, 1)\n",
    "    need_user_embeddings_norm = user_embeddings_norm[internal_user_ids]\n",
    "    # Create Tree for search nearest neighbors\n",
    "    item_index = create_ann(item_embeddings)\n",
    "\n",
    "    # Make recommendations\n",
    "    ann_recs = []\n",
    "    for i, user_emb in tqdm(enumerate(need_user_embeddings_norm), total=need_user_embeddings_norm.shape[0]):\n",
    "        similar_items = item_index.get_nns_by_vector(user_emb, K_RECOS)\n",
    "        ann_recs.append({\n",
    "            'inner_user_id': i,\n",
    "            'item_id': list(similar_items)\n",
    "        })\n",
    "    \n",
    "    # Formated DataFrame\n",
    "    user_mapping_df = dataset.user_id_map.to_external\\\n",
    "        .reset_index()\\\n",
    "        .rename(columns={'index': 'inner_user_id', 0: 'user_id'})\n",
    "    \n",
    "    ann_recs_df = pd.DataFrame(ann_recs)\n",
    "    ann_recs_df = ann_recs_df.explode(column='item_id')\\\n",
    "        .reset_index(drop=True)\\\n",
    "        .merge(user_mapping_df, on='inner_user_id')[['user_id', 'item_id']]\n",
    "\n",
    "    ann_recs_df['rank'] = ann_recs_df.groupby('user_id').cumcount()\n",
    "    return ann_recs_df"
   ]
  },
  {
   "cell_type": "code",
   "execution_count": 101,
   "metadata": {},
   "outputs": [
    {
     "name": "stderr",
     "output_type": "stream",
     "text": [
      "100%|████████████████████████████████| 756562/756562 [00:13<00:00, 56238.41it/s]\n"
     ]
    },
    {
     "data": {
      "text/plain": [
       "{'MAP@10': 0.05845399314096013}"
      ]
     },
     "execution_count": 101,
     "metadata": {},
     "output_type": "execute_result"
    }
   ],
   "source": [
    "ann_recs = get_ann_recomends_to_warm_users(warm_users, dataset, model)\n",
    "\n",
    "calc_metrics(metric, ann_recs, warm_test, train)"
   ]
  },
  {
   "cell_type": "markdown",
   "metadata": {},
   "source": [
    "# Добавление фичей по users и item в нашу модель"
   ]
  },
  {
   "cell_type": "code",
   "execution_count": 111,
   "metadata": {},
   "outputs": [
    {
     "data": {
      "text/html": [
       "<div>\n",
       "<style scoped>\n",
       "    .dataframe tbody tr th:only-of-type {\n",
       "        vertical-align: middle;\n",
       "    }\n",
       "\n",
       "    .dataframe tbody tr th {\n",
       "        vertical-align: top;\n",
       "    }\n",
       "\n",
       "    .dataframe thead th {\n",
       "        text-align: right;\n",
       "    }\n",
       "</style>\n",
       "<table border=\"1\" class=\"dataframe\">\n",
       "  <thead>\n",
       "    <tr style=\"text-align: right;\">\n",
       "      <th></th>\n",
       "      <th>id</th>\n",
       "      <th>value</th>\n",
       "      <th>feature</th>\n",
       "    </tr>\n",
       "  </thead>\n",
       "  <tbody>\n",
       "    <tr>\n",
       "      <th>0</th>\n",
       "      <td>973171</td>\n",
       "      <td>М</td>\n",
       "      <td>sex</td>\n",
       "    </tr>\n",
       "    <tr>\n",
       "      <th>1</th>\n",
       "      <td>962099</td>\n",
       "      <td>М</td>\n",
       "      <td>sex</td>\n",
       "    </tr>\n",
       "    <tr>\n",
       "      <th>2</th>\n",
       "      <td>1047345</td>\n",
       "      <td>Ж</td>\n",
       "      <td>sex</td>\n",
       "    </tr>\n",
       "    <tr>\n",
       "      <th>3</th>\n",
       "      <td>721985</td>\n",
       "      <td>Ж</td>\n",
       "      <td>sex</td>\n",
       "    </tr>\n",
       "    <tr>\n",
       "      <th>4</th>\n",
       "      <td>704055</td>\n",
       "      <td>Ж</td>\n",
       "      <td>sex</td>\n",
       "    </tr>\n",
       "  </tbody>\n",
       "</table>\n",
       "</div>"
      ],
      "text/plain": [
       "        id value feature\n",
       "0   973171     М     sex\n",
       "1   962099     М     sex\n",
       "2  1047345     Ж     sex\n",
       "3   721985     Ж     sex\n",
       "4   704055     Ж     sex"
      ]
     },
     "execution_count": 111,
     "metadata": {},
     "output_type": "execute_result"
    }
   ],
   "source": [
    "# Preprocessing and get user features\n",
    "users.fillna('Unknown', inplace=True)\n",
    "\n",
    "user_features_frames = []\n",
    "for feature in [\"sex\", \"age\", \"income\"]:\n",
    "    feature_frame = users.reindex(columns=['user_id', feature])\n",
    "    feature_frame.columns = [\"id\", \"value\"]\n",
    "    feature_frame[\"feature\"] = feature\n",
    "    user_features_frames.append(feature_frame)\n",
    "user_features = pd.concat(user_features_frames)\n",
    "user_features.head()"
   ]
  },
  {
   "cell_type": "code",
   "execution_count": 107,
   "metadata": {},
   "outputs": [
    {
     "data": {
      "text/html": [
       "<div>\n",
       "<style scoped>\n",
       "    .dataframe tbody tr th:only-of-type {\n",
       "        vertical-align: middle;\n",
       "    }\n",
       "\n",
       "    .dataframe tbody tr th {\n",
       "        vertical-align: top;\n",
       "    }\n",
       "\n",
       "    .dataframe thead th {\n",
       "        text-align: right;\n",
       "    }\n",
       "</style>\n",
       "<table border=\"1\" class=\"dataframe\">\n",
       "  <thead>\n",
       "    <tr style=\"text-align: right;\">\n",
       "      <th></th>\n",
       "      <th>id</th>\n",
       "      <th>value</th>\n",
       "      <th>feature</th>\n",
       "    </tr>\n",
       "  </thead>\n",
       "  <tbody>\n",
       "    <tr>\n",
       "      <th>0</th>\n",
       "      <td>10711</td>\n",
       "      <td>драмы</td>\n",
       "      <td>genre</td>\n",
       "    </tr>\n",
       "    <tr>\n",
       "      <th>1</th>\n",
       "      <td>10711</td>\n",
       "      <td>зарубежные</td>\n",
       "      <td>genre</td>\n",
       "    </tr>\n",
       "    <tr>\n",
       "      <th>2</th>\n",
       "      <td>10711</td>\n",
       "      <td>детективы</td>\n",
       "      <td>genre</td>\n",
       "    </tr>\n",
       "    <tr>\n",
       "      <th>3</th>\n",
       "      <td>10711</td>\n",
       "      <td>мелодрамы</td>\n",
       "      <td>genre</td>\n",
       "    </tr>\n",
       "    <tr>\n",
       "      <th>4</th>\n",
       "      <td>2508</td>\n",
       "      <td>зарубежные</td>\n",
       "      <td>genre</td>\n",
       "    </tr>\n",
       "  </tbody>\n",
       "</table>\n",
       "</div>"
      ],
      "text/plain": [
       "      id       value feature\n",
       "0  10711       драмы   genre\n",
       "1  10711  зарубежные   genre\n",
       "2  10711   детективы   genre\n",
       "3  10711   мелодрамы   genre\n",
       "4   2508  зарубежные   genre"
      ]
     },
     "execution_count": 107,
     "metadata": {},
     "output_type": "execute_result"
    }
   ],
   "source": [
    "# Preprocessing and get item features\n",
    "\n",
    "# Get Genres\n",
    "items[\"genre\"] = items[\"genres\"].str.lower().str.replace(\", \", \",\", regex=False).str.split(\",\")\n",
    "genre_feature = items[[\"item_id\", \"genre\"]].explode(\"genre\")\n",
    "genre_feature.columns = [\"id\", \"value\"]\n",
    "genre_feature[\"feature\"] = \"genre\"\n",
    "\n",
    "# Get Content\n",
    "content_feature = items.reindex(columns=['item_id', \"content_type\"])\n",
    "content_feature.columns = [\"id\", \"value\"]\n",
    "content_feature[\"feature\"] = \"content_type\"\n",
    "\n",
    "# Concatenate features\n",
    "item_features = pd.concat((genre_feature, content_feature), ignore_index=True)\n",
    "item_features.head()"
   ]
  },
  {
   "cell_type": "code",
   "execution_count": 113,
   "metadata": {},
   "outputs": [],
   "source": [
    "# Dataset for warm users\n",
    "dataset_with_features = Dataset.construct(\n",
    "    interactions_df=train,\n",
    "    user_features_df=user_features[user_features['id'].isin(warm_users)],\n",
    "    cat_user_features=[\"sex\", \"age\", \"income\"],\n",
    "    item_features_df=item_features[item_features['id'].isin(train['item_id'].unique())],\n",
    "    cat_item_features=[\"genre\", \"content_type\"],\n",
    ")"
   ]
  },
  {
   "cell_type": "code",
   "execution_count": 114,
   "metadata": {},
   "outputs": [
    {
     "data": {
      "text/plain": [
       "{'MAP@10': 0.06989408673719903}"
      ]
     },
     "execution_count": 114,
     "metadata": {},
     "output_type": "execute_result"
    }
   ],
   "source": [
    "model = LightFMWrapperModel(\n",
    "            LightFM(\n",
    "                no_components=40, \n",
    "                loss='warp', \n",
    "                random_state=RANDOM_STATE,\n",
    "                learning_rate=0.05\n",
    "            ),\n",
    "            epochs=10,\n",
    "            num_threads=NUM_THREADS,\n",
    "        )\n",
    "\n",
    "model.fit(dataset_with_features)\n",
    "\n",
    "recs = model.recommend(\n",
    "    users=warm_test['user_id'].unique(),\n",
    "    dataset=dataset_with_features,\n",
    "    k=K_RECOS,\n",
    "    filter_viewed=True\n",
    ")\n",
    "\n",
    "metric = {\n",
    "    'MAP@10': MAP(k=10)\n",
    "}\n",
    "\n",
    "calc_metrics(metric, recs, warm_test, train)"
   ]
  },
  {
   "cell_type": "code",
   "execution_count": null,
   "metadata": {},
   "outputs": [],
   "source": []
  },
  {
   "cell_type": "markdown",
   "metadata": {},
   "source": [
    "# Делаем предсказания по всем пользователям"
   ]
  },
  {
   "cell_type": "code",
   "execution_count": 115,
   "metadata": {},
   "outputs": [],
   "source": [
    "all_dataset = Dataset.construct(interactions)\n",
    "\n",
    "model = LightFMWrapperModel(\n",
    "            LightFM(\n",
    "                no_components=10, \n",
    "                loss='warp', \n",
    "                random_state=RANDOM_STATE,\n",
    "                learning_rate=0.05\n",
    "            ),\n",
    "            epochs=10,\n",
    "            num_threads=NUM_THREADS,\n",
    "        )\n",
    "\n",
    "model.fit(all_dataset)\n",
    "\n",
    "final_recs = model.recommend(\n",
    "    users=interactions['user_id'].unique(),\n",
    "    dataset=all_dataset,\n",
    "    k=K_RECOS,\n",
    "    filter_viewed=True\n",
    ")"
   ]
  },
  {
   "cell_type": "code",
   "execution_count": 121,
   "metadata": {},
   "outputs": [],
   "source": [
    "users_recs = final_recs.groupby('user_id').agg({'item_id': list})\n",
    "users_recs.to_json('lightfm_recommendations.json')\n"
   ]
  },
  {
   "cell_type": "code",
   "execution_count": null,
   "metadata": {},
   "outputs": [],
   "source": []
  }
 ],
 "metadata": {
  "kernelspec": {
   "display_name": "Python 3 (ipykernel)",
   "language": "python",
   "name": "python3"
  },
  "language_info": {
   "codemirror_mode": {
    "name": "ipython",
    "version": 3
   },
   "file_extension": ".py",
   "mimetype": "text/x-python",
   "name": "python",
   "nbconvert_exporter": "python",
   "pygments_lexer": "ipython3",
   "version": "3.9.6"
  }
 },
 "nbformat": 4,
 "nbformat_minor": 2
}
