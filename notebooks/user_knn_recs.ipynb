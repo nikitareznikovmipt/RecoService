{
 "cells": [
  {
   "cell_type": "code",
   "execution_count": 1,
   "metadata": {},
   "outputs": [],
   "source": [
    "import sys\n",
    "import os\n",
    "\n",
    "root_dir = os.path.dirname(os.getcwd())\n",
    "sys.path.append(root_dir)\n",
    "\n",
    "import pandas as pd\n",
    "from implicit.nearest_neighbours import CosineRecommender\n",
    "from models.user_knn_with_cold_start import UserKnnWithColdStart\n",
    "from models.userknn import UserKnn\n",
    "from rectools.metrics import calc_metrics, Precision, Recall, Serendipity, MeanInvUserFreq, MAP, NDCG\n",
    "\n",
    "from service.config import INTERACTIONS_DATA\n",
    "import pickle"
   ]
  },
  {
   "cell_type": "code",
   "execution_count": 2,
   "metadata": {},
   "outputs": [
    {
     "data": {
      "text/html": [
       "<div>\n",
       "<style scoped>\n",
       "    .dataframe tbody tr th:only-of-type {\n",
       "        vertical-align: middle;\n",
       "    }\n",
       "\n",
       "    .dataframe tbody tr th {\n",
       "        vertical-align: top;\n",
       "    }\n",
       "\n",
       "    .dataframe thead th {\n",
       "        text-align: right;\n",
       "    }\n",
       "</style>\n",
       "<table border=\"1\" class=\"dataframe\">\n",
       "  <thead>\n",
       "    <tr style=\"text-align: right;\">\n",
       "      <th></th>\n",
       "      <th>user_id</th>\n",
       "      <th>item_id</th>\n",
       "      <th>datetime</th>\n",
       "      <th>weight</th>\n",
       "      <th>watched_pct</th>\n",
       "    </tr>\n",
       "  </thead>\n",
       "  <tbody>\n",
       "    <tr>\n",
       "      <th>0</th>\n",
       "      <td>176549</td>\n",
       "      <td>9506</td>\n",
       "      <td>2021-05-11</td>\n",
       "      <td>4250</td>\n",
       "      <td>72.0</td>\n",
       "    </tr>\n",
       "    <tr>\n",
       "      <th>1</th>\n",
       "      <td>699317</td>\n",
       "      <td>1659</td>\n",
       "      <td>2021-05-29</td>\n",
       "      <td>8317</td>\n",
       "      <td>100.0</td>\n",
       "    </tr>\n",
       "    <tr>\n",
       "      <th>2</th>\n",
       "      <td>656683</td>\n",
       "      <td>7107</td>\n",
       "      <td>2021-05-09</td>\n",
       "      <td>10</td>\n",
       "      <td>0.0</td>\n",
       "    </tr>\n",
       "    <tr>\n",
       "      <th>3</th>\n",
       "      <td>864613</td>\n",
       "      <td>7638</td>\n",
       "      <td>2021-07-05</td>\n",
       "      <td>14483</td>\n",
       "      <td>100.0</td>\n",
       "    </tr>\n",
       "    <tr>\n",
       "      <th>4</th>\n",
       "      <td>964868</td>\n",
       "      <td>9506</td>\n",
       "      <td>2021-04-30</td>\n",
       "      <td>6725</td>\n",
       "      <td>100.0</td>\n",
       "    </tr>\n",
       "  </tbody>\n",
       "</table>\n",
       "</div>"
      ],
      "text/plain": [
       "   user_id  item_id   datetime  weight  watched_pct\n",
       "0   176549     9506 2021-05-11    4250         72.0\n",
       "1   699317     1659 2021-05-29    8317        100.0\n",
       "2   656683     7107 2021-05-09      10          0.0\n",
       "3   864613     7638 2021-07-05   14483        100.0\n",
       "4   964868     9506 2021-04-30    6725        100.0"
      ]
     },
     "execution_count": 2,
     "metadata": {},
     "output_type": "execute_result"
    }
   ],
   "source": [
    "# Загружаем данные\n",
    "interactions = pd.read_csv(INTERACTIONS_DATA)\n",
    "interactions.rename(\n",
    "        columns={\n",
    "                'last_watch_dt': 'datetime',\n",
    "                'total_dur': 'weight'\n",
    "        }, \n",
    "        inplace=True)\n",
    "interactions['datetime'] = pd.to_datetime(interactions['datetime'])\n",
    "interactions.head()"
   ]
  },
  {
   "cell_type": "code",
   "execution_count": 3,
   "metadata": {},
   "outputs": [
    {
     "name": "stdout",
     "output_type": "stream",
     "text": [
      "Количество теплых пользователей: 120519\n",
      "Количество холодных пользователей: 65388\n"
     ]
    }
   ],
   "source": [
    "# Разобьем для трейна и теста\n",
    "max_date = interactions['datetime'].max()\n",
    "train = interactions[(interactions['datetime'] < max_date - pd.Timedelta(days=7))]\n",
    "test = interactions[(interactions['datetime'] >= max_date - pd.Timedelta(days=7))]\n",
    "\n",
    "# Отделим на тесте теплых и холодных пользователей\n",
    "warm_users = train['user_id'].unique()\n",
    "warm_test = test[test['user_id'].isin(warm_users)]\n",
    "cold_test = test[~test['user_id'].isin(warm_users)]\n",
    "\n",
    "print(f\"Количество теплых пользователей: {warm_test['user_id'].nunique()}\")\n",
    "print(f\"Количество холодных пользователей: {cold_test['user_id'].nunique()}\")"
   ]
  },
  {
   "cell_type": "markdown",
   "metadata": {},
   "source": [
    "### Загрузка моделей"
   ]
  },
  {
   "cell_type": "code",
   "execution_count": 4,
   "metadata": {},
   "outputs": [],
   "source": [
    "# Объявляем глобальные переменные\n",
    "N_USERS = 50\n",
    "N_RECS = 10"
   ]
  },
  {
   "cell_type": "code",
   "execution_count": 6,
   "metadata": {},
   "outputs": [],
   "source": [
    "# Загружаем или обучаем старый формат модели\n",
    "if os.path.exists(os.path.join(root_dir, 'service/saved_models/user_knn_old.pkl')):\n",
    "    with open(os.path.join(root_dir, 'service/saved_models/user_knn_old.pkl'), 'rb') as f:\n",
    "        userknn = pickle.load(f)\n",
    "else:\n",
    "    model = CosineRecommender(N_USERS)\n",
    "    userknn = UserKnn(model, N_USERS)\n",
    "    userknn.fit(train)\n",
    "    with open(os.path.join(root_dir, 'service/saved_models/user_knn_old.pkl'), 'wb') as f:\n",
    "        pickle.dump(userknn, f)"
   ]
  },
  {
   "cell_type": "code",
   "execution_count": 7,
   "metadata": {},
   "outputs": [],
   "source": [
    "# Загружаем или обучаем новый формат модели\n",
    "if os.path.exists(os.path.join(root_dir, 'service/saved_models/user_knn_with_cold_start.pkl')):\n",
    "    with open(os.path.join(root_dir, 'service/saved_models/user_knn_with_cold_start.pkl'), 'rb') as f:\n",
    "        userknn_with_cold_start = pickle.load(f)\n",
    "else:\n",
    "    userknn_with_cold_start = UserKnnWithColdStart(N_USERS, N_RECS)\n",
    "    userknn_with_cold_start.fit(train)\n",
    "    with open(os.path.join(root_dir, 'service/saved_models/user_knn_with_cold_start.pkl'), 'wb') as f:\n",
    "        pickle.dump(userknn_with_cold_start, f)"
   ]
  },
  {
   "cell_type": "markdown",
   "metadata": {},
   "source": [
    "Отличие нового формата от старого:\n",
    "- количество рекомендаций строго N\n",
    "- для холодных пользователей реализованы предсказания топа популярных\n",
    "- метод recommend реализован не для батчевого предикта, а для поюзерного"
   ]
  },
  {
   "cell_type": "markdown",
   "metadata": {},
   "source": [
    "### Оценка качества модели"
   ]
  },
  {
   "cell_type": "code",
   "execution_count": 8,
   "metadata": {},
   "outputs": [
    {
     "ename": "KeyError",
     "evalue": "505244",
     "output_type": "error",
     "traceback": [
      "\u001b[0;31m---------------------------------------------------------------------------\u001b[0m",
      "\u001b[0;31mKeyError\u001b[0m                                  Traceback (most recent call last)",
      "\u001b[1;32m/Users/nikitareznikov/Desktop/DS/Магистратура/RecSys/RecoService/notebooks/user_knn_recs.ipynb Ячейка 11\u001b[0m line \u001b[0;36m6\n\u001b[1;32m      <a href='vscode-notebook-cell:/Users/nikitareznikov/Desktop/DS/%D0%9C%D0%B0%D0%B3%D0%B8%D1%81%D1%82%D1%80%D0%B0%D1%82%D1%83%D1%80%D0%B0/RecSys/RecoService/notebooks/user_knn_recs.ipynb#X13sZmlsZQ%3D%3D?line=2'>3</a>\u001b[0m warm_recommends \u001b[39m=\u001b[39m userknn\u001b[39m.\u001b[39mpredict(warm_test)[[\u001b[39m'\u001b[39m\u001b[39muser_id\u001b[39m\u001b[39m'\u001b[39m, \u001b[39m'\u001b[39m\u001b[39mitem_id\u001b[39m\u001b[39m'\u001b[39m, \u001b[39m'\u001b[39m\u001b[39mrank\u001b[39m\u001b[39m'\u001b[39m]]\n\u001b[1;32m      <a href='vscode-notebook-cell:/Users/nikitareznikov/Desktop/DS/%D0%9C%D0%B0%D0%B3%D0%B8%D1%81%D1%82%D1%80%D0%B0%D1%82%D1%83%D1%80%D0%B0/RecSys/RecoService/notebooks/user_knn_recs.ipynb#X13sZmlsZQ%3D%3D?line=4'>5</a>\u001b[0m \u001b[39m# Проверка, что по холодным пользователям не работает\u001b[39;00m\n\u001b[0;32m----> <a href='vscode-notebook-cell:/Users/nikitareznikov/Desktop/DS/%D0%9C%D0%B0%D0%B3%D0%B8%D1%81%D1%82%D1%80%D0%B0%D1%82%D1%83%D1%80%D0%B0/RecSys/RecoService/notebooks/user_knn_recs.ipynb#X13sZmlsZQ%3D%3D?line=5'>6</a>\u001b[0m cold_recommends \u001b[39m=\u001b[39m userknn\u001b[39m.\u001b[39;49mpredict(cold_test)\n",
      "File \u001b[0;32m~/Desktop/DS/Магистратура/RecSys/RecoService/models/userknn.py:98\u001b[0m, in \u001b[0;36mUserKnn.predict\u001b[0;34m(self, test, N_recs)\u001b[0m\n\u001b[1;32m     90\u001b[0m mapper \u001b[39m=\u001b[39m \u001b[39mself\u001b[39m\u001b[39m.\u001b[39m_generate_recs_mapper(\n\u001b[1;32m     91\u001b[0m     model\u001b[39m=\u001b[39m\u001b[39mself\u001b[39m\u001b[39m.\u001b[39muser_knn, \n\u001b[1;32m     92\u001b[0m     user_mapping\u001b[39m=\u001b[39m\u001b[39mself\u001b[39m\u001b[39m.\u001b[39musers_mapping,\n\u001b[1;32m     93\u001b[0m     user_inv_mapping\u001b[39m=\u001b[39m\u001b[39mself\u001b[39m\u001b[39m.\u001b[39musers_inv_mapping,\n\u001b[1;32m     94\u001b[0m     N\u001b[39m=\u001b[39m\u001b[39mself\u001b[39m\u001b[39m.\u001b[39mN_users\n\u001b[1;32m     95\u001b[0m )\n\u001b[1;32m     97\u001b[0m recs \u001b[39m=\u001b[39m pd\u001b[39m.\u001b[39mDataFrame({\u001b[39m'\u001b[39m\u001b[39muser_id\u001b[39m\u001b[39m'\u001b[39m: test[\u001b[39m'\u001b[39m\u001b[39muser_id\u001b[39m\u001b[39m'\u001b[39m]\u001b[39m.\u001b[39munique()})\n\u001b[0;32m---> 98\u001b[0m recs[\u001b[39m'\u001b[39m\u001b[39msim_user_id\u001b[39m\u001b[39m'\u001b[39m], recs[\u001b[39m'\u001b[39m\u001b[39msim\u001b[39m\u001b[39m'\u001b[39m] \u001b[39m=\u001b[39m \u001b[39mzip\u001b[39m(\u001b[39m*\u001b[39mrecs[\u001b[39m'\u001b[39;49m\u001b[39muser_id\u001b[39;49m\u001b[39m'\u001b[39;49m]\u001b[39m.\u001b[39;49mmap(mapper))\n\u001b[1;32m     99\u001b[0m recs \u001b[39m=\u001b[39m recs\u001b[39m.\u001b[39mset_index(\u001b[39m'\u001b[39m\u001b[39muser_id\u001b[39m\u001b[39m'\u001b[39m)\u001b[39m.\u001b[39mapply(pd\u001b[39m.\u001b[39mSeries\u001b[39m.\u001b[39mexplode)\u001b[39m.\u001b[39mreset_index()\n\u001b[1;32m    101\u001b[0m recs \u001b[39m=\u001b[39m recs[\u001b[39m~\u001b[39m(recs[\u001b[39m'\u001b[39m\u001b[39muser_id\u001b[39m\u001b[39m'\u001b[39m] \u001b[39m==\u001b[39m recs[\u001b[39m'\u001b[39m\u001b[39msim_user_id\u001b[39m\u001b[39m'\u001b[39m])]\\\n\u001b[1;32m    102\u001b[0m     \u001b[39m.\u001b[39mmerge(\u001b[39mself\u001b[39m\u001b[39m.\u001b[39mwatched, on\u001b[39m=\u001b[39m[\u001b[39m'\u001b[39m\u001b[39msim_user_id\u001b[39m\u001b[39m'\u001b[39m], how\u001b[39m=\u001b[39m\u001b[39m'\u001b[39m\u001b[39mleft\u001b[39m\u001b[39m'\u001b[39m)\\\n\u001b[1;32m    103\u001b[0m     \u001b[39m.\u001b[39mexplode(\u001b[39m'\u001b[39m\u001b[39mitem_id\u001b[39m\u001b[39m'\u001b[39m)\\\n\u001b[1;32m    104\u001b[0m     \u001b[39m.\u001b[39msort_values([\u001b[39m'\u001b[39m\u001b[39muser_id\u001b[39m\u001b[39m'\u001b[39m, \u001b[39m'\u001b[39m\u001b[39msim\u001b[39m\u001b[39m'\u001b[39m], ascending\u001b[39m=\u001b[39m\u001b[39mFalse\u001b[39;00m)\\\n\u001b[1;32m    105\u001b[0m     \u001b[39m.\u001b[39mdrop_duplicates([\u001b[39m'\u001b[39m\u001b[39muser_id\u001b[39m\u001b[39m'\u001b[39m, \u001b[39m'\u001b[39m\u001b[39mitem_id\u001b[39m\u001b[39m'\u001b[39m], keep\u001b[39m=\u001b[39m\u001b[39m'\u001b[39m\u001b[39mfirst\u001b[39m\u001b[39m'\u001b[39m)\\\n\u001b[1;32m    106\u001b[0m     \u001b[39m.\u001b[39mmerge(\u001b[39mself\u001b[39m\u001b[39m.\u001b[39mitem_idf, left_on\u001b[39m=\u001b[39m\u001b[39m'\u001b[39m\u001b[39mitem_id\u001b[39m\u001b[39m'\u001b[39m, right_on\u001b[39m=\u001b[39m\u001b[39m'\u001b[39m\u001b[39mindex\u001b[39m\u001b[39m'\u001b[39m, how\u001b[39m=\u001b[39m\u001b[39m'\u001b[39m\u001b[39mleft\u001b[39m\u001b[39m'\u001b[39m)\n",
      "File \u001b[0;32m~/jupyter_notebook_venv/jupyter_venv/lib/python3.9/site-packages/pandas/core/series.py:4539\u001b[0m, in \u001b[0;36mSeries.map\u001b[0;34m(self, arg, na_action)\u001b[0m\n\u001b[1;32m   4460\u001b[0m \u001b[39mdef\u001b[39;00m \u001b[39mmap\u001b[39m(\n\u001b[1;32m   4461\u001b[0m     \u001b[39mself\u001b[39m,\n\u001b[1;32m   4462\u001b[0m     arg: Callable \u001b[39m|\u001b[39m Mapping \u001b[39m|\u001b[39m Series,\n\u001b[1;32m   4463\u001b[0m     na_action: Literal[\u001b[39m\"\u001b[39m\u001b[39mignore\u001b[39m\u001b[39m\"\u001b[39m] \u001b[39m|\u001b[39m \u001b[39mNone\u001b[39;00m \u001b[39m=\u001b[39m \u001b[39mNone\u001b[39;00m,\n\u001b[1;32m   4464\u001b[0m ) \u001b[39m-\u001b[39m\u001b[39m>\u001b[39m Series:\n\u001b[1;32m   4465\u001b[0m \u001b[39m    \u001b[39m\u001b[39m\"\"\"\u001b[39;00m\n\u001b[1;32m   4466\u001b[0m \u001b[39m    Map values of Series according to an input mapping or function.\u001b[39;00m\n\u001b[1;32m   4467\u001b[0m \n\u001b[0;32m   (...)\u001b[0m\n\u001b[1;32m   4537\u001b[0m \u001b[39m    dtype: object\u001b[39;00m\n\u001b[1;32m   4538\u001b[0m \u001b[39m    \"\"\"\u001b[39;00m\n\u001b[0;32m-> 4539\u001b[0m     new_values \u001b[39m=\u001b[39m \u001b[39mself\u001b[39;49m\u001b[39m.\u001b[39;49m_map_values(arg, na_action\u001b[39m=\u001b[39;49mna_action)\n\u001b[1;32m   4540\u001b[0m     \u001b[39mreturn\u001b[39;00m \u001b[39mself\u001b[39m\u001b[39m.\u001b[39m_constructor(new_values, index\u001b[39m=\u001b[39m\u001b[39mself\u001b[39m\u001b[39m.\u001b[39mindex)\u001b[39m.\u001b[39m__finalize__(\n\u001b[1;32m   4541\u001b[0m         \u001b[39mself\u001b[39m, method\u001b[39m=\u001b[39m\u001b[39m\"\u001b[39m\u001b[39mmap\u001b[39m\u001b[39m\"\u001b[39m\n\u001b[1;32m   4542\u001b[0m     )\n",
      "File \u001b[0;32m~/jupyter_notebook_venv/jupyter_venv/lib/python3.9/site-packages/pandas/core/base.py:890\u001b[0m, in \u001b[0;36mIndexOpsMixin._map_values\u001b[0;34m(self, mapper, na_action)\u001b[0m\n\u001b[1;32m    887\u001b[0m         \u001b[39mraise\u001b[39;00m \u001b[39mValueError\u001b[39;00m(msg)\n\u001b[1;32m    889\u001b[0m \u001b[39m# mapper is a function\u001b[39;00m\n\u001b[0;32m--> 890\u001b[0m new_values \u001b[39m=\u001b[39m map_f(values, mapper)\n\u001b[1;32m    892\u001b[0m \u001b[39mreturn\u001b[39;00m new_values\n",
      "File \u001b[0;32m~/jupyter_notebook_venv/jupyter_venv/lib/python3.9/site-packages/pandas/_libs/lib.pyx:2924\u001b[0m, in \u001b[0;36mpandas._libs.lib.map_infer\u001b[0;34m()\u001b[0m\n",
      "File \u001b[0;32m~/Desktop/DS/Магистратура/RecSys/RecoService/models/userknn.py:80\u001b[0m, in \u001b[0;36mUserKnn._generate_recs_mapper.<locals>._recs_mapper\u001b[0;34m(user)\u001b[0m\n\u001b[1;32m     79\u001b[0m \u001b[39mdef\u001b[39;00m \u001b[39m_recs_mapper\u001b[39m(user):\n\u001b[0;32m---> 80\u001b[0m     user_id \u001b[39m=\u001b[39m \u001b[39mself\u001b[39;49m\u001b[39m.\u001b[39;49musers_mapping[user]\n\u001b[1;32m     81\u001b[0m     users, sim \u001b[39m=\u001b[39m model\u001b[39m.\u001b[39msimilar_items(user_id, N\u001b[39m=\u001b[39mN)\n\u001b[1;32m     82\u001b[0m     \u001b[39mreturn\u001b[39;00m [\u001b[39mself\u001b[39m\u001b[39m.\u001b[39musers_inv_mapping[user] \u001b[39mfor\u001b[39;00m user \u001b[39min\u001b[39;00m users], sim\n",
      "\u001b[0;31mKeyError\u001b[0m: 505244"
     ]
    }
   ],
   "source": [
    "# Делаем предсказания по теплым пользователям и холодным с помощью старой модели\n",
    "warm_recommends = userknn.predict(warm_test)[['user_id', 'item_id', 'rank']]\n",
    "\n",
    "# Проверка, что по холодным пользователям не работает\n",
    "cold_recommends = userknn.predict(cold_test)"
   ]
  },
  {
   "cell_type": "code",
   "execution_count": 19,
   "metadata": {},
   "outputs": [
    {
     "data": {
      "text/html": [
       "<div>\n",
       "<style scoped>\n",
       "    .dataframe tbody tr th:only-of-type {\n",
       "        vertical-align: middle;\n",
       "    }\n",
       "\n",
       "    .dataframe tbody tr th {\n",
       "        vertical-align: top;\n",
       "    }\n",
       "\n",
       "    .dataframe thead th {\n",
       "        text-align: right;\n",
       "    }\n",
       "</style>\n",
       "<table border=\"1\" class=\"dataframe\">\n",
       "  <thead>\n",
       "    <tr style=\"text-align: right;\">\n",
       "      <th></th>\n",
       "      <th>user_id</th>\n",
       "      <th>item_id</th>\n",
       "      <th>rank</th>\n",
       "    </tr>\n",
       "  </thead>\n",
       "  <tbody>\n",
       "    <tr>\n",
       "      <th>0</th>\n",
       "      <td>203219</td>\n",
       "      <td>10440</td>\n",
       "      <td>0</td>\n",
       "    </tr>\n",
       "    <tr>\n",
       "      <th>1</th>\n",
       "      <td>203219</td>\n",
       "      <td>15297</td>\n",
       "      <td>1</td>\n",
       "    </tr>\n",
       "    <tr>\n",
       "      <th>2</th>\n",
       "      <td>203219</td>\n",
       "      <td>9728</td>\n",
       "      <td>2</td>\n",
       "    </tr>\n",
       "    <tr>\n",
       "      <th>3</th>\n",
       "      <td>203219</td>\n",
       "      <td>13865</td>\n",
       "      <td>3</td>\n",
       "    </tr>\n",
       "    <tr>\n",
       "      <th>4</th>\n",
       "      <td>203219</td>\n",
       "      <td>4151</td>\n",
       "      <td>4</td>\n",
       "    </tr>\n",
       "  </tbody>\n",
       "</table>\n",
       "</div>"
      ],
      "text/plain": [
       "   user_id item_id  rank\n",
       "0   203219   10440     0\n",
       "1   203219   15297     1\n",
       "2   203219    9728     2\n",
       "3   203219   13865     3\n",
       "4   203219    4151     4"
      ]
     },
     "execution_count": 19,
     "metadata": {},
     "output_type": "execute_result"
    }
   ],
   "source": [
    "# Делаем предсказания по Топ Популярным\n",
    "top_popular_recs = pd.DataFrame(test['user_id'].unique(), columns=['user_id'])\n",
    "top_popular_recs['item_id'] = [list(top_popular.recommend()[:N_RECS])] * top_popular_recs.shape[0]\n",
    "top_popular_recs = top_popular_recs.explode(column='item_id').reset_index(drop=True)\n",
    "top_popular_recs['rank'] = top_popular_recs.groupby('user_id').cumcount()\n",
    "top_popular_recs.head()"
   ]
  },
  {
   "cell_type": "code",
   "execution_count": 21,
   "metadata": {},
   "outputs": [],
   "source": [
    "# Делаем предсказания по теплым пользователям и холодным с помощью новой модели\n",
    "new_warm_recommends = []\n",
    "for warm_user in warm_users:\n",
    "    items = userknn_with_cold_start.recommend(warm_user)\n",
    "    for i, item in enumerate(items):\n",
    "        curr_rec = {\n",
    "            'user_id': warm_user,\n",
    "            'item_id': item,\n",
    "            'rank': i + 1\n",
    "        }\n",
    "        new_warm_recommends.append(curr_rec)\n",
    "\n",
    "\n",
    "new_cold_recommends = []\n",
    "for cold_user in cold_test['user_id'].unique():\n",
    "    items = userknn_with_cold_start.recommend(cold_user)\n",
    "    for i, item in enumerate(items):\n",
    "        curr_rec = {\n",
    "            'user_id': warm_user,\n",
    "            'item_id': item,\n",
    "            'rank': i + 1\n",
    "        }\n",
    "        new_cold_recommends.append(curr_rec)\n",
    "\n",
    "new_warm_recommends_df = pd.DataFrame(new_warm_recommends)\n",
    "new_cold_recommends_df = pd.DataFrame(new_cold_recommends)\n"
   ]
  },
  {
   "cell_type": "code",
   "execution_count": 22,
   "metadata": {},
   "outputs": [
    {
     "name": "stdout",
     "output_type": "stream",
     "text": [
      "Количество пользователей, у которых меньше 10 рекомендаций: 0\n"
     ]
    }
   ],
   "source": [
    "# Проверка, что всегда отдаем по 10 рекомендациям\n",
    "users_wo_need_recs_cnt = (new_warm_recommends_df.groupby('user_id')['rank'].max() < 10).sum()\n",
    "print(f'Количество пользователей, у которых меньше 10 рекомендаций: {users_wo_need_recs_cnt}')"
   ]
  },
  {
   "cell_type": "code",
   "execution_count": null,
   "metadata": {},
   "outputs": [],
   "source": []
  }
 ],
 "metadata": {
  "kernelspec": {
   "display_name": "Python 3 (ipykernel)",
   "language": "python",
   "name": "python3"
  }
 },
 "nbformat": 4,
 "nbformat_minor": 2
}
